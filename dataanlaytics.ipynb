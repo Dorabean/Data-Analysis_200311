{
 "cells": [
  {
   "cell_type": "code",
   "execution_count": 1,
   "metadata": {},
   "outputs": [],
   "source": [
    "import pandas as pd #데이터분석\n",
    "import numpy as np #행렬이나 일반적으로 대규모 다차원 배열을 처리\n",
    "import matplotlib as mpl\n",
    "import matplotlib.pyplot as plt\n",
    "import datetime #타임스탬프가 특정시간으로나오게"
   ]
  },
  {
   "cell_type": "code",
   "execution_count": 2,
   "metadata": {
    "scrolled": true
   },
   "outputs": [
    {
     "data": {
      "text/html": [
       "<div>\n",
       "<style scoped>\n",
       "    .dataframe tbody tr th:only-of-type {\n",
       "        vertical-align: middle;\n",
       "    }\n",
       "\n",
       "    .dataframe tbody tr th {\n",
       "        vertical-align: top;\n",
       "    }\n",
       "\n",
       "    .dataframe thead th {\n",
       "        text-align: right;\n",
       "    }\n",
       "</style>\n",
       "<table border=\"1\" class=\"dataframe\">\n",
       "  <thead>\n",
       "    <tr style=\"text-align: right;\">\n",
       "      <th></th>\n",
       "      <th>InvoiceNo</th>\n",
       "      <th>StockCode</th>\n",
       "      <th>Description</th>\n",
       "      <th>Quantity</th>\n",
       "      <th>InvoiceDate</th>\n",
       "      <th>UnitPrice</th>\n",
       "      <th>CustomerID</th>\n",
       "      <th>Country</th>\n",
       "    </tr>\n",
       "  </thead>\n",
       "  <tbody>\n",
       "    <tr>\n",
       "      <th>0</th>\n",
       "      <td>536365</td>\n",
       "      <td>85123A</td>\n",
       "      <td>WHITE HANGING HEART T-LIGHT HOLDER</td>\n",
       "      <td>6</td>\n",
       "      <td>2010-12-01 08:26:00</td>\n",
       "      <td>2.55</td>\n",
       "      <td>17850</td>\n",
       "      <td>United Kingdom</td>\n",
       "    </tr>\n",
       "    <tr>\n",
       "      <th>1</th>\n",
       "      <td>536365</td>\n",
       "      <td>71053</td>\n",
       "      <td>WHITE METAL LANTERN</td>\n",
       "      <td>6</td>\n",
       "      <td>2010-12-01 08:26:00</td>\n",
       "      <td>3.39</td>\n",
       "      <td>17850</td>\n",
       "      <td>United Kingdom</td>\n",
       "    </tr>\n",
       "    <tr>\n",
       "      <th>2</th>\n",
       "      <td>536365</td>\n",
       "      <td>84406B</td>\n",
       "      <td>CREAM CUPID HEARTS COAT HANGER</td>\n",
       "      <td>8</td>\n",
       "      <td>2010-12-01 08:26:00</td>\n",
       "      <td>2.75</td>\n",
       "      <td>17850</td>\n",
       "      <td>United Kingdom</td>\n",
       "    </tr>\n",
       "    <tr>\n",
       "      <th>3</th>\n",
       "      <td>536366</td>\n",
       "      <td>22633</td>\n",
       "      <td>HAND WARMER UNION JACK</td>\n",
       "      <td>6</td>\n",
       "      <td>2010-12-01 08:28:00</td>\n",
       "      <td>1.85</td>\n",
       "      <td>17850</td>\n",
       "      <td>United Kingdom</td>\n",
       "    </tr>\n",
       "    <tr>\n",
       "      <th>4</th>\n",
       "      <td>536366</td>\n",
       "      <td>22632</td>\n",
       "      <td>HAND WARMER RED POLKA DOT</td>\n",
       "      <td>6</td>\n",
       "      <td>2010-12-01 08:28:00</td>\n",
       "      <td>1.85</td>\n",
       "      <td>17850</td>\n",
       "      <td>United Kingdom</td>\n",
       "    </tr>\n",
       "    <tr>\n",
       "      <th>5</th>\n",
       "      <td>536367</td>\n",
       "      <td>84879</td>\n",
       "      <td>ASSORTED COLOUR BIRD ORNAMENT</td>\n",
       "      <td>32</td>\n",
       "      <td>2010-12-01 08:34:00</td>\n",
       "      <td>1.69</td>\n",
       "      <td>13047</td>\n",
       "      <td>United Kingdom</td>\n",
       "    </tr>\n",
       "    <tr>\n",
       "      <th>6</th>\n",
       "      <td>536367</td>\n",
       "      <td>22745</td>\n",
       "      <td>POPPY'S PLAYHOUSE BEDROOM</td>\n",
       "      <td>6</td>\n",
       "      <td>2010-12-01 08:34:00</td>\n",
       "      <td>2.10</td>\n",
       "      <td>13047</td>\n",
       "      <td>United Kingdom</td>\n",
       "    </tr>\n",
       "    <tr>\n",
       "      <th>7</th>\n",
       "      <td>536367</td>\n",
       "      <td>22748</td>\n",
       "      <td>POPPY'S PLAYHOUSE KITCHEN</td>\n",
       "      <td>6</td>\n",
       "      <td>2010-12-01 08:34:00</td>\n",
       "      <td>2.10</td>\n",
       "      <td>13047</td>\n",
       "      <td>United Kingdom</td>\n",
       "    </tr>\n",
       "  </tbody>\n",
       "</table>\n",
       "</div>"
      ],
      "text/plain": [
       "   InvoiceNo StockCode                         Description  Quantity  \\\n",
       "0     536365    85123A  WHITE HANGING HEART T-LIGHT HOLDER         6   \n",
       "1     536365     71053                 WHITE METAL LANTERN         6   \n",
       "2     536365    84406B      CREAM CUPID HEARTS COAT HANGER         8   \n",
       "3     536366     22633              HAND WARMER UNION JACK         6   \n",
       "4     536366     22632           HAND WARMER RED POLKA DOT         6   \n",
       "5     536367     84879       ASSORTED COLOUR BIRD ORNAMENT        32   \n",
       "6     536367     22745          POPPY'S PLAYHOUSE BEDROOM          6   \n",
       "7     536367     22748           POPPY'S PLAYHOUSE KITCHEN         6   \n",
       "\n",
       "          InvoiceDate  UnitPrice  CustomerID         Country  \n",
       "0 2010-12-01 08:26:00       2.55       17850  United Kingdom  \n",
       "1 2010-12-01 08:26:00       3.39       17850  United Kingdom  \n",
       "2 2010-12-01 08:26:00       2.75       17850  United Kingdom  \n",
       "3 2010-12-01 08:28:00       1.85       17850  United Kingdom  \n",
       "4 2010-12-01 08:28:00       1.85       17850  United Kingdom  \n",
       "5 2010-12-01 08:34:00       1.69       13047  United Kingdom  \n",
       "6 2010-12-01 08:34:00       2.10       13047  United Kingdom  \n",
       "7 2010-12-01 08:34:00       2.10       13047  United Kingdom  "
      ]
     },
     "execution_count": 2,
     "metadata": {},
     "output_type": "execute_result"
    }
   ],
   "source": [
    "data = pd.read_excel('data.xlsx')#연습용xlsx\n",
    "#data = pd.read_excel('O_Retail.xlsx')\n",
    "data[0:10]"
   ]
  },
  {
   "cell_type": "code",
   "execution_count": 3,
   "metadata": {},
   "outputs": [
    {
     "name": "stdout",
     "output_type": "stream",
     "text": [
      "536365 [Timestamp('2010-12-01 08:26:00'), 17850, 'United Kingdom', ['85123A', 'WHITE HANGING HEART T-LIGHT HOLDER', 6, 2.55, 71053, 'WHITE METAL LANTERN', 6, 3.39, '84406B', 'CREAM CUPID HEARTS COAT HANGER', 8, 2.75]]\n",
      "/\n",
      "536366 [Timestamp('2010-12-01 08:28:00'), 17850, 'United Kingdom', [22633, 'HAND WARMER UNION JACK', 6, 1.85, 22632, 'HAND WARMER RED POLKA DOT', 6, 1.85]]\n",
      "/\n",
      "536367 [Timestamp('2010-12-01 08:34:00'), 13047, 'United Kingdom', [84879, 'ASSORTED COLOUR BIRD ORNAMENT', 32, 1.69, 22745, \"POPPY'S PLAYHOUSE BEDROOM \", 6, 2.1, 22748, \"POPPY'S PLAYHOUSE KITCHEN\", 6, 2.1]]\n",
      "/\n",
      "{536365: [Timestamp('2010-12-01 08:26:00'), 17850, 'United Kingdom', ['85123A', 'WHITE HANGING HEART T-LIGHT HOLDER', 6, 2.55, 71053, 'WHITE METAL LANTERN', 6, 3.39, '84406B', 'CREAM CUPID HEARTS COAT HANGER', 8, 2.75]], 536366: [Timestamp('2010-12-01 08:28:00'), 17850, 'United Kingdom', [22633, 'HAND WARMER UNION JACK', 6, 1.85, 22632, 'HAND WARMER RED POLKA DOT', 6, 1.85]], 536367: [Timestamp('2010-12-01 08:34:00'), 13047, 'United Kingdom', [84879, 'ASSORTED COLOUR BIRD ORNAMENT', 32, 1.69, 22745, \"POPPY'S PLAYHOUSE BEDROOM \", 6, 2.1, 22748, \"POPPY'S PLAYHOUSE KITCHEN\", 6, 2.1]]}\n"
     ]
    }
   ],
   "source": [
    "#데이터 송장기준으로 분류 완료!\n",
    "\n",
    "value=[]\n",
    "value1=[]\n",
    "value2=[]\n",
    "dir={}\n",
    "\n",
    "No = data['InvoiceNo']\n",
    "for i in range(0,len(No)):\n",
    "    value2.append(data['StockCode'][i])\n",
    "    value2.append(data['Description'][i])\n",
    "    value2.append(data['Quantity'][i])\n",
    "    value2.append(data['UnitPrice'][i])\n",
    "    if (i == len(No)-1) or (No[i] != No[i+1]):\n",
    "        value.append(data['InvoiceDate'][i])\n",
    "        value.append(data['CustomerID'][i])\n",
    "        value.append(data['Country'][i])\n",
    "        dir[No[i]]=value+[value2]\n",
    "        print(No[i],dir[No[i]])\n",
    "        value=[]\n",
    "        value2=[]\n",
    "        print(\"/\")\n",
    "    else:\n",
    "        pass;\n",
    "print(dir)"
   ]
  },
  {
   "cell_type": "code",
   "execution_count": 29,
   "metadata": {},
   "outputs": [
    {
     "name": "stdout",
     "output_type": "stream",
     "text": [
      "/\n",
      "536365\n",
      "/ 2.55\n",
      "/ 3.39\n",
      "/ 2.75\n",
      "/\n",
      "536366\n",
      "/ 1.85\n",
      "/ 1.85\n",
      "/\n",
      "536367\n",
      "/ 1.69\n",
      "/ 2.1\n",
      "/ 2.1\n"
     ]
    },
    {
     "data": {
      "text/plain": [
       "''"
      ]
     },
     "execution_count": 29,
     "metadata": {},
     "output_type": "execute_result"
    }
   ],
   "source": [
    "#여기서부터 다시 수정하기\n",
    "#수정해야할 내용 : 두번째에서 4나누어서 불러와야하는 부분 수정하기!\n",
    "#지금 원하는 데이터만 불러오는 작업을 할 예정이다.\n",
    "\n",
    "#dir[key][순번]= 하나씩불러오는 방법\n",
    "# key = 송장\n",
    "# 첫번째 = 송장시간, 고객번호, 국가 0 1 2 \n",
    "# 두번째 = 제품번호, 상세 내용, 양, 단가 3.1,2,3,4- 이 순서대로 반복 -> 4로 나누어서 불러오면 될듯\n",
    "\n",
    "# 송장과 고객번호, 제품번호만 불러오기\n",
    "\n",
    "for i in list(dir.keys()):\n",
    "    print(\"/\")\n",
    "    print(i)\n",
    "    #print(dir[i][0])\n",
    "    #0- 시간, 1- 고객번호, 2- 국가\n",
    "    \"\"\"\"\"\"\n",
    "    for j in range(0,len(dir[i][3])) :\n",
    "        if (j%4==3):\n",
    "            if(j%4==1):#상세내용은 분리가 필요함 ->상세 데이터 분석을 위함.\\n\",\n",
    "                dir[i][3][j].split(' ')\n",
    "                print(dir[i][3][j].split(' '))\n",
    "            else :\n",
    "                print(\"/\", dir[i][3][j])\n",
    "                pass;\n",
    "                #0-제품번호, 1-상세내용, 2-양, 3-단가\n",
    "\"\"\"\"\"\""
   ]
  },
  {
   "cell_type": "code",
   "execution_count": null,
   "metadata": {},
   "outputs": [],
   "source": [
    "#여기서부터다시수정하기 - 그래프\n",
    "#데이터분석의 결과를 보일 곳!\n"
   ]
  },
  {
   "cell_type": "code",
   "execution_count": null,
   "metadata": {},
   "outputs": [],
   "source": []
  },
  {
   "cell_type": "code",
   "execution_count": null,
   "metadata": {},
   "outputs": [],
   "source": []
  },
  {
   "cell_type": "code",
   "execution_count": null,
   "metadata": {},
   "outputs": [],
   "source": []
  },
  {
   "cell_type": "code",
   "execution_count": null,
   "metadata": {},
   "outputs": [],
   "source": []
  }
 ],
 "metadata": {
  "kernelspec": {
   "display_name": "Python 3",
   "language": "python",
   "name": "python3"
  },
  "language_info": {
   "codemirror_mode": {
    "name": "ipython",
    "version": 3
   },
   "file_extension": ".py",
   "mimetype": "text/x-python",
   "name": "python",
   "nbconvert_exporter": "python",
   "pygments_lexer": "ipython3",
   "version": "3.7.3"
  }
 },
 "nbformat": 4,
 "nbformat_minor": 2
}
