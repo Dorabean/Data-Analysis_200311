{
 "cells": [
  {
   "cell_type": "code",
   "execution_count": 1,
   "metadata": {},
   "outputs": [],
   "source": [
    "#필요 success\n",
    "#pd 데이터분석\n",
    "#np 행렬이나 일반적으로 대규모 다차원 배열을 처리\n",
    "# datetime 타임스탬프가 특정시간으로 나오게\n",
    "\n",
    "import pandas as pd\n",
    "import numpy as np\n",
    "import matplotlib as mpl\n",
    "import matplotlib.pyplot as plt\n",
    "import datetime"
   ]
  },
  {
   "cell_type": "code",
   "execution_count": 2,
   "metadata": {
    "scrolled": true
   },
   "outputs": [
    {
     "data": {
      "text/html": [
       "<div>\n",
       "<style scoped>\n",
       "    .dataframe tbody tr th:only-of-type {\n",
       "        vertical-align: middle;\n",
       "    }\n",
       "\n",
       "    .dataframe tbody tr th {\n",
       "        vertical-align: top;\n",
       "    }\n",
       "\n",
       "    .dataframe thead th {\n",
       "        text-align: right;\n",
       "    }\n",
       "</style>\n",
       "<table border=\"1\" class=\"dataframe\">\n",
       "  <thead>\n",
       "    <tr style=\"text-align: right;\">\n",
       "      <th></th>\n",
       "      <th>InvoiceNo</th>\n",
       "      <th>StockCode</th>\n",
       "      <th>Description</th>\n",
       "      <th>Quantity</th>\n",
       "      <th>InvoiceDate</th>\n",
       "      <th>UnitPrice</th>\n",
       "      <th>CustomerID</th>\n",
       "      <th>Country</th>\n",
       "    </tr>\n",
       "  </thead>\n",
       "  <tbody>\n",
       "    <tr>\n",
       "      <th>0</th>\n",
       "      <td>A</td>\n",
       "      <td>A10</td>\n",
       "      <td>WHITE HANGING HEART T-LIGHT HOLDER</td>\n",
       "      <td>6</td>\n",
       "      <td>2010-12-01 08:26:00</td>\n",
       "      <td>2.55</td>\n",
       "      <td>AA</td>\n",
       "      <td>United Kingdom</td>\n",
       "    </tr>\n",
       "    <tr>\n",
       "      <th>1</th>\n",
       "      <td>A</td>\n",
       "      <td>B20</td>\n",
       "      <td>CREAM CUPID HEARTS COAT HANGER</td>\n",
       "      <td>8</td>\n",
       "      <td>2010-12-01 08:26:00</td>\n",
       "      <td>2.75</td>\n",
       "      <td>AA</td>\n",
       "      <td>United Kingdom</td>\n",
       "    </tr>\n",
       "    <tr>\n",
       "      <th>2</th>\n",
       "      <td>B</td>\n",
       "      <td>B20</td>\n",
       "      <td>HAND WARMER UNION JACK</td>\n",
       "      <td>6</td>\n",
       "      <td>2010-12-01 08:28:00</td>\n",
       "      <td>1.85</td>\n",
       "      <td>BB</td>\n",
       "      <td>United Kingdom</td>\n",
       "    </tr>\n",
       "    <tr>\n",
       "      <th>3</th>\n",
       "      <td>B</td>\n",
       "      <td>C30</td>\n",
       "      <td>HAND WARMER RED POLKA DOT</td>\n",
       "      <td>6</td>\n",
       "      <td>2010-12-01 08:28:00</td>\n",
       "      <td>1.85</td>\n",
       "      <td>BB</td>\n",
       "      <td>United Kingdom</td>\n",
       "    </tr>\n",
       "    <tr>\n",
       "      <th>4</th>\n",
       "      <td>C</td>\n",
       "      <td>C30</td>\n",
       "      <td>ASSORTED COLOUR BIRD ORNAMENT</td>\n",
       "      <td>32</td>\n",
       "      <td>2010-12-01 08:34:00</td>\n",
       "      <td>1.69</td>\n",
       "      <td>CC</td>\n",
       "      <td>United Kingdom</td>\n",
       "    </tr>\n",
       "    <tr>\n",
       "      <th>5</th>\n",
       "      <td>D</td>\n",
       "      <td>D40</td>\n",
       "      <td>ALARM CLOCK BAKELIKE PINK</td>\n",
       "      <td>24</td>\n",
       "      <td>2010-12-01 08:45:00</td>\n",
       "      <td>3.75</td>\n",
       "      <td>DD</td>\n",
       "      <td>France</td>\n",
       "    </tr>\n",
       "    <tr>\n",
       "      <th>6</th>\n",
       "      <td>D</td>\n",
       "      <td>D40</td>\n",
       "      <td>ALARM CLOCK BAKELIKE RED</td>\n",
       "      <td>24</td>\n",
       "      <td>2010-12-01 08:45:00</td>\n",
       "      <td>3.75</td>\n",
       "      <td>DD</td>\n",
       "      <td>France</td>\n",
       "    </tr>\n",
       "    <tr>\n",
       "      <th>7</th>\n",
       "      <td>E</td>\n",
       "      <td>50</td>\n",
       "      <td>CREAM CUPID HEARTS COAT HANGER</td>\n",
       "      <td>10</td>\n",
       "      <td>2010-12-01 08:26:00</td>\n",
       "      <td>2.75</td>\n",
       "      <td>EE</td>\n",
       "      <td>France</td>\n",
       "    </tr>\n",
       "  </tbody>\n",
       "</table>\n",
       "</div>"
      ],
      "text/plain": [
       "  InvoiceNo StockCode                         Description  Quantity  \\\n",
       "0         A       A10  WHITE HANGING HEART T-LIGHT HOLDER         6   \n",
       "1         A       B20      CREAM CUPID HEARTS COAT HANGER         8   \n",
       "2         B       B20              HAND WARMER UNION JACK         6   \n",
       "3         B       C30           HAND WARMER RED POLKA DOT         6   \n",
       "4         C       C30       ASSORTED COLOUR BIRD ORNAMENT        32   \n",
       "5         D       D40           ALARM CLOCK BAKELIKE PINK        24   \n",
       "6         D       D40           ALARM CLOCK BAKELIKE RED         24   \n",
       "7         E        50      CREAM CUPID HEARTS COAT HANGER        10   \n",
       "\n",
       "          InvoiceDate  UnitPrice CustomerID         Country  \n",
       "0 2010-12-01 08:26:00       2.55         AA  United Kingdom  \n",
       "1 2010-12-01 08:26:00       2.75         AA  United Kingdom  \n",
       "2 2010-12-01 08:28:00       1.85         BB  United Kingdom  \n",
       "3 2010-12-01 08:28:00       1.85         BB  United Kingdom  \n",
       "4 2010-12-01 08:34:00       1.69         CC  United Kingdom  \n",
       "5 2010-12-01 08:45:00       3.75         DD          France  \n",
       "6 2010-12-01 08:45:00       3.75         DD          France  \n",
       "7 2010-12-01 08:26:00       2.75         EE          France  "
      ]
     },
     "execution_count": 2,
     "metadata": {},
     "output_type": "execute_result"
    }
   ],
   "source": [
    "# 읽어오기 success|\n",
    "#연습용=data.xlsx\n",
    "data = pd.read_excel('data.xlsx')\n",
    "#data = pd.read_excel('O_Retail.xlsx')\n",
    "data[0:]"
   ]
  },
  {
   "cell_type": "code",
   "execution_count": 3,
   "metadata": {},
   "outputs": [
    {
     "name": "stdout",
     "output_type": "stream",
     "text": [
      "A [Timestamp('2010-12-01 08:26:00'), 'AA', 'United Kingdom', ['A10', 'WHITE HANGING HEART T-LIGHT HOLDER', 6, 2.55, 'B20', 'CREAM CUPID HEARTS COAT HANGER', 8, 2.75]]\n",
      "B [Timestamp('2010-12-01 08:28:00'), 'BB', 'United Kingdom', ['B20', 'HAND WARMER UNION JACK', 6, 1.85, 'C30', 'HAND WARMER RED POLKA DOT', 6, 1.85]]\n",
      "C [Timestamp('2010-12-01 08:34:00'), 'CC', 'United Kingdom', ['C30', 'ASSORTED COLOUR BIRD ORNAMENT', 32, 1.69]]\n",
      "D [Timestamp('2010-12-01 08:45:00'), 'DD', 'France', ['D40', 'ALARM CLOCK BAKELIKE PINK', 24, 3.75, 'D40', 'ALARM CLOCK BAKELIKE RED ', 24, 3.75]]\n",
      "E [Timestamp('2010-12-01 08:26:00'), 'EE', 'France', [50, 'CREAM CUPID HEARTS COAT HANGER', 10, 2.75]]\n",
      "{'A': [Timestamp('2010-12-01 08:26:00'), 'AA', 'United Kingdom', ['A10', 'WHITE HANGING HEART T-LIGHT HOLDER', 6, 2.55, 'B20', 'CREAM CUPID HEARTS COAT HANGER', 8, 2.75]], 'B': [Timestamp('2010-12-01 08:28:00'), 'BB', 'United Kingdom', ['B20', 'HAND WARMER UNION JACK', 6, 1.85, 'C30', 'HAND WARMER RED POLKA DOT', 6, 1.85]], 'C': [Timestamp('2010-12-01 08:34:00'), 'CC', 'United Kingdom', ['C30', 'ASSORTED COLOUR BIRD ORNAMENT', 32, 1.69]], 'D': [Timestamp('2010-12-01 08:45:00'), 'DD', 'France', ['D40', 'ALARM CLOCK BAKELIKE PINK', 24, 3.75, 'D40', 'ALARM CLOCK BAKELIKE RED ', 24, 3.75]], 'E': [Timestamp('2010-12-01 08:26:00'), 'EE', 'France', [50, 'CREAM CUPID HEARTS COAT HANGER', 10, 2.75]]}\n"
     ]
    }
   ],
   "source": [
    "#데이터 송장기준으로 분류 success\n",
    "#이게 다른 방법이 있는지 확인할 것! 하나씩 불러오게 되면 힘듦..#####\n",
    "\n",
    "value=[]\n",
    "value1=[]\n",
    "value2=[]\n",
    "dir={}\n",
    "\n",
    "No = data['InvoiceNo']\n",
    "for i in range(0,len(No)):\n",
    "    value2.append(data['StockCode'][i])\n",
    "    value2.append(data['Description'][i])\n",
    "    value2.append(data['Quantity'][i])\n",
    "    value2.append(data['UnitPrice'][i])\n",
    "    if (i == len(No)-1) or (No[i] != No[i+1]):\n",
    "        value.append(data['InvoiceDate'][i])\n",
    "        value.append(data['CustomerID'][i])\n",
    "        value.append(data['Country'][i])\n",
    "        dir[No[i]]=value+[value2]\n",
    "        print(No[i],dir[No[i]])\n",
    "        value=[]\n",
    "        value2=[]\n",
    "    else:\n",
    "        pass;\n",
    "\n",
    "print(dir)\n",
    "\n",
    "#마무리\n",
    "del No, value, value1, value2\n",
    "\n",
    "#dir[key][순번]= 하나씩불러오는 방법\n",
    "# key = 송장\n",
    "\n",
    "# 첫번째 = 송장시간, 고객번호, 국가 0 1 2 \n",
    "# 두번째 = 제품번호, 상세 내용, 양, 단가 3.1,2,3,4- 이 순서대로 반복 -> 4로 나누어서 불러오면 될듯"
   ]
  },
  {
   "cell_type": "code",
   "execution_count": 8,
   "metadata": {},
   "outputs": [
    {
     "name": "stdout",
     "output_type": "stream",
     "text": [
      "{'United Kingdom': [('A10', 1), ('B20', 2), ('C30', 2)], 'France': [('D40', 2), (50, 1)]}\n"
     ]
    }
   ],
   "source": [
    "#1.국가와제품\n",
    "# 송장과 고객번호, 제품번호만 불러오기\n",
    "#{국가: 제품, 개수 --- }\n",
    "\n",
    "dircA={}\n",
    "dircAA={}#임시저장\n",
    "for i in list(dir.keys()):\n",
    "    for j in range(len(dir[i][3])) :\n",
    "        if (j%4==0):\n",
    "            value=[]\n",
    "            if dir[i][2] in dircA.keys():\n",
    "                value=dircA[dir[i][2]]\n",
    "            else:\n",
    "                pass;\n",
    "            value.append(dir[i][3][j])\n",
    "        dircA[dir[i][2]]=value\n",
    "for i in list(dircA.keys()):\n",
    "    value=[]\n",
    "    for j in range(len(dircA[i])):\n",
    "        count=1\n",
    "        for jj in range(j+1,len(dircA[i])): \n",
    "            if dircA[i][j]==dircA[i][jj]:\n",
    "                count+=1\n",
    "                if jj in value:\n",
    "                    pass;\n",
    "                else:\n",
    "                    value.append(jj)\n",
    "            else:\n",
    "                pass;\n",
    "        dircA[i][j]=(dircA[i][j], count)\n",
    "    dircAA[i]=value\n",
    "for i in dircA.keys():\n",
    "    value=[]\n",
    "    if dircAA[i]:\n",
    "        value=dircAA[i]\n",
    "        value.sort(reverse=True)\n",
    "        for j in value:\n",
    "            del dircA[i][j]\n",
    "print(dircA)\n"
   ]
  },
  {
   "cell_type": "code",
   "execution_count": 5,
   "metadata": {},
   "outputs": [],
   "source": [
    "#1.국가와제품\n",
    "\n",
    "#그래프 그리기\n",
    "\n"
   ]
  },
  {
   "cell_type": "code",
   "execution_count": 9,
   "metadata": {},
   "outputs": [
    {
     "name": "stdout",
     "output_type": "stream",
     "text": [
      "{'AA': ('A', Timestamp('2010-12-01 08:26:00')), 'BB': ('B', Timestamp('2010-12-01 08:28:00')), 'CC': ('C', Timestamp('2010-12-01 08:34:00')), 'DD': ('D', Timestamp('2010-12-01 08:45:00')), 'EE': ('E', Timestamp('2010-12-01 08:26:00'))}\n"
     ]
    }
   ],
   "source": [
    "#2. 고객당 시간 구매율\n",
    "# 고객번호, 송장, 시간만 불러오기\n",
    "#{고객번호 : 송장, 시간}\n",
    "\n",
    "dircB={}\n",
    "for i in list(dir.keys()):\n",
    "    dircBB=[]\n",
    "    for j in dir[i]:\n",
    "        if j == dir[i][0] :\n",
    "            value=(i,j)\n",
    "        elif j == dir[i][1] :\n",
    "            if j in dircB.keys():\n",
    "                dircBB=dircB[j]\n",
    "                value=(dircBB)+value\n",
    "            else:\n",
    "                pass;\n",
    "            dircB[j]=value\n",
    "            value=()\n",
    "print(dircB)"
   ]
  },
  {
   "cell_type": "code",
   "execution_count": null,
   "metadata": {},
   "outputs": [],
   "source": [
    "#2.시간과 고객번호\n",
    "\n",
    "#그래프 그리기"
   ]
  },
  {
   "cell_type": "code",
   "execution_count": 10,
   "metadata": {},
   "outputs": [
    {
     "name": "stdout",
     "output_type": "stream",
     "text": [
      "{'AA': [('A10', 1), ('B20', 1)], 'BB': [('B20', 1), ('C30', 1)], 'CC': [('C30', 1)], 'DD': [('D40', 2)], 'EE': [(50, 1)]}\n"
     ]
    }
   ],
   "source": [
    "#3. 고객당 선호제품\n",
    "# 고객번호, 제품명만 불러오기\n",
    "# {고객번호:제품명, 개수}\n",
    "\n",
    "dircC={}\n",
    "dircCC={}#임시저장\n",
    "for i in list(dir.keys()):\n",
    "    for j in range(len(dir[i][3])) :\n",
    "        if (j%4==0):\n",
    "            value=[]\n",
    "            if dir[i][1] in dircC.keys():\n",
    "                value=dircC[dir[i][1]]\n",
    "            else:\n",
    "                pass;\n",
    "            value.append(dir[i][3][j])\n",
    "        dircC[dir[i][1]]=value\n",
    "for i in list(dircC.keys()):\n",
    "    value=[]\n",
    "    for j in range(len(dircC[i])):\n",
    "        count =1\n",
    "        for jj in range(j+1,len(dircC[i])):\n",
    "            if dircC[i][j]==dircC[i][jj]:\n",
    "                count+=1\n",
    "                if jj in value:\n",
    "                    pass;\n",
    "                else:\n",
    "                    value.append(jj)\n",
    "            else:\n",
    "                pass;\n",
    "        dircC[i][j]=(dircC[i][j], count)\n",
    "    dircCC[i]=value\n",
    "for i in dircC.keys():\n",
    "    value=[]\n",
    "    if dircCC[i]:\n",
    "        value=dircCC[i]\n",
    "        value.sort(reverse=True)\n",
    "        for j in value:\n",
    "            del dircC[i][j]\n",
    "print(dircC)\n"
   ]
  },
  {
   "cell_type": "code",
   "execution_count": 11,
   "metadata": {},
   "outputs": [],
   "source": [
    "#3. 고객번호와 상품\n",
    "\n",
    "#그래프 그리기\n",
    "\n"
   ]
  },
  {
   "cell_type": "code",
   "execution_count": 12,
   "metadata": {},
   "outputs": [
    {
     "name": "stdout",
     "output_type": "stream",
     "text": [
      "AA\n",
      "BB\n",
      "CC\n",
      "DD\n",
      "EE\n"
     ]
    }
   ],
   "source": [
    "# 첫번째 = 송장시간, 고객번호, 국가 0 1 2 \n",
    "# 두번째 = 제품번호, 상세 내용, 양, 단가 3.1,2,3,4- 이 순서대로 반복 -> 4로 나누어서 불러오면 될듯\n",
    "# 4. 고객당 송장번호기준으로 양과 단가의 합\n",
    "# 고객번호, 양, 단가만 불러오기\n",
    "#{고객번호 : 송장번호, 양합, 단가합 ---}\n",
    "\n",
    "for i in list(dir.keys()):\n",
    "    for j in dir[i]:\n",
    "        if j == dir[i][1]:\n",
    "            print(j)"
   ]
  },
  {
   "cell_type": "code",
   "execution_count": null,
   "metadata": {},
   "outputs": [],
   "source": []
  }
 ],
 "metadata": {
  "kernelspec": {
   "display_name": "Python 3",
   "language": "python",
   "name": "python3"
  },
  "language_info": {
   "codemirror_mode": {
    "name": "ipython",
    "version": 3
   },
   "file_extension": ".py",
   "mimetype": "text/x-python",
   "name": "python",
   "nbconvert_exporter": "python",
   "pygments_lexer": "ipython3",
   "version": "3.7.3"
  }
 },
 "nbformat": 4,
 "nbformat_minor": 2
}
